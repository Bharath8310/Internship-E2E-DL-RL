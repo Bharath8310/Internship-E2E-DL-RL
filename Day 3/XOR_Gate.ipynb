{
 "cells": [
  {
   "cell_type": "code",
   "execution_count": 14,
   "id": "80df9e28-2328-4318-ad71-31883f63f9a4",
   "metadata": {},
   "outputs": [],
   "source": [
    "#Implement a simple single/Multi-layer perceptron from scratch in Python to solve a basic binary classification problem (e.g., XOR gate). \n",
    "#Train, it using gradient descent and visualize its decision boundary.\n",
    "\n",
    "\n",
    "import numpy as np\n",
    "import matplotlib.pyplot as plt\n",
    "\n",
    "# Sigmoid activation and its derivative\n",
    "def sigmoid(x):\n",
    "    return 1 / (1 + np.exp(-x))\n",
    "\n",
    "def sigmoid_derivative(x):\n",
    "    return x * (1 - x)\n",
    "\n",
    "class MLP:\n",
    "    def __init__(self):\n",
    "        # Network architecture: 2-2-1\n",
    "        self.W1 = np.random.uniform(-1, 1, (2, 2))  # Input to hidden\n",
    "        self.b1 = np.random.uniform(-1, 1, (1, 2))\n",
    "        self.W2 = np.random.uniform(-1, 1, (2, 1))  # Hidden to output\n",
    "        self.b2 = np.random.uniform(-1, 1, (1, 1))\n",
    "    \n",
    "    def forward(self, X):\n",
    "        self.hidden = sigmoid(X @ self.W1 + self.b1)\n",
    "        self.output = sigmoid(self.hidden @ self.W2 + self.b2)\n",
    "        return self.output\n",
    "    \n",
    "    def backward(self, X, y, lr=0.1):\n",
    "        # Backpropagation\n",
    "        error = y - self.output\n",
    "        delta_output = error * sigmoid_derivative(self.output)\n",
    "        delta_hidden = delta_output @ self.W2.T * sigmoid_derivative(self.hidden)\n",
    "        \n",
    "        # Update weights\n",
    "        self.W2 += self.hidden.T @ delta_output * lr\n",
    "        self.b2 += np.sum(delta_output, axis=0) * lr\n",
    "        self.W1 += X.T @ delta_hidden * lr\n",
    "        self.b1 += np.sum(delta_hidden, axis=0) * lr\n",
    "    \n",
    "    def train(self, X, y, epochs=10000):\n",
    "        for _ in range(epochs):\n",
    "            self.forward(X)\n",
    "            self.backward(X, y)\n",
    "    \n",
    "    def predict(self, X):\n",
    "        return (self.forward(X) > 0.5).astype(int)\n",
    "\n",
    "# XOR dataset\n",
    "X = np.array([[0, 0], [0, 1], [1, 0], [1, 1]])\n",
    "y = np.array([[0], [1], [1], [0]])\n",
    "\n",
    "# Initialize and train model\n",
    "mlp = MLP()\n",
    "mlp.train(X, y)"
   ]
  },
  {
   "cell_type": "code",
   "execution_count": 15,
   "id": "e808e816-56cd-4168-95c8-b26823c881a5",
   "metadata": {},
   "outputs": [
    {
     "name": "stdout",
     "output_type": "stream",
     "text": [
      "XOR Truth Table with Predictions:\n",
      "\n",
      "Input 1 | Input 2 | Expected | Predicted | Class\n",
      "-----------------------------------------------\n",
      "   0     |    0    |    0     |   0.077   |   0\n",
      "   0     |    1    |    1     |   0.936   |   1\n",
      "   1     |    0    |    1     |   0.930   |   1\n",
      "   1     |    1    |    0     |   0.069   |   0\n"
     ]
    }
   ],
   "source": [
    "# Get predicted probabilities and classes\n",
    "y_pred = mlp.forward(X)      # Probabilities (between 0 and 1)\n",
    "y_class = mlp.predict(X)     # Class labels (0 or 1)\n",
    "\n",
    "print(\"XOR Truth Table with Predictions:\\n\")\n",
    "print(\"Input 1 | Input 2 | Expected | Predicted | Class\")\n",
    "print(\"-----------------------------------------------\")\n",
    "for i in range(len(X)):\n",
    "    x1, x2 = X[i]\n",
    "    expected = y[i][0]\n",
    "    pred_prob = y_pred[i][0]\n",
    "    pred_class = y_class[i][0]\n",
    "    print(f\"   {x1}     |    {x2}    |    {expected}     |   {pred_prob:.3f}   |   {pred_class}\")"
   ]
  },
  {
   "cell_type": "code",
   "execution_count": 16,
   "id": "0b47a10c-8c58-4c25-8e9b-c18944ca8e86",
   "metadata": {},
   "outputs": [
    {
     "data": {
      "image/png": "[encoded data removed]",
      "text/plain": [
       "<Figure size 640x480 with 1 Axes>"
      ]
     },
     "metadata": {},
     "output_type": "display_data"
    }
   ],
   "source": [
    "# Decision boundary visualization\n",
    "def plot_boundary(model):\n",
    "    x_min, x_max = -0.1, 1.1\n",
    "    y_min, y_max = -0.1, 1.1\n",
    "    xx, yy = np.meshgrid(np.linspace(x_min, x_max, 100), \n",
    "                         np.linspace(y_min, y_max, 100))\n",
    "    grid = np.c_[xx.ravel(), yy.ravel()]\n",
    "    Z = model.predict(grid).reshape(xx.shape)\n",
    "    \n",
    "    plt.contourf(xx, yy, Z, alpha=0.8)\n",
    "    plt.scatter(X[:,0], X[:,1], c=y.ravel(), edgecolors='k')\n",
    "    plt.title(\"MLP Decision Boundary for XOR\")\n",
    "    plt.show()\n",
    "\n",
    "plot_boundary(mlp)"
   ]
  },
  {
   "cell_type": "code",
   "execution_count": null,
   "id": "380e3ab3-664c-4528-85b4-9b1245ed5846",
   "metadata": {},
   "outputs": [],
   "source": []
  }
 ],
 "metadata": {
  "kernelspec": {
   "display_name": "Python 3 (ipykernel)",
   "language": "python",
   "name": "python3"
  },
  "language_info": {
   "codemirror_mode": {
    "name": "ipython",
    "version": 3
   },
   "file_extension": ".py",
   "mimetype": "text/x-python",
   "name": "python",
   "nbconvert_exporter": "python",
   "pygments_lexer": "ipython3",
   "version": "3.12.6"
  }
 },
 "nbformat": 4,
 "nbformat_minor": 5
}
